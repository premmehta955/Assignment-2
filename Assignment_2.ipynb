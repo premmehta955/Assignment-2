{
 "cells": [
  {
   "cell_type": "markdown",
   "id": "0d2724a0-c9a6-44d0-a3e9-dbbeacb6ad3e",
   "metadata": {},
   "source": [
    "Q1. How can we store a single quote(') as a string in a variable? Answer: We can store a single quote(') as a string in a variable as present it between two double quote.\n",
    "\n",
    "Q2. Refer the below variable: x='a' here, is x a character type or string type variable? Support your answer with an explanation. Answer: If \"x\" is defined as a single character using single quotes('x'), it would be considered a character type variable. In Python, individual characters are treated as strings of length one. So, even it is a single character, it is still considered a string. Program input: x='a' print(type(x)) #Program Output: <class 'str'>(string type)\n",
    "\n",
    "Q3. Apply the following function on this variable:'Welcome to Python foundation course'\n",
    "\n",
    " 1. find() # Program input: a='Welcome to Python foundation course' print(a.find('o')) # Program output: 4\n",
    "\n",
    " 2. count()\n",
    "\n",
    "  # Program input:\n",
    "   a='Welcome to Python foundation course'\n",
    "    print(a.count(a))  \n",
    "  # Program output: 1\n",
    "\n",
    "\n",
    "  3. len()\n",
    "  # Program input:\n",
    "    a='Welcome to Python foundation course'\n",
    "    print(len(a)\n",
    "  # Program output: 35\n",
    "\n",
    "   4. concatenation\n",
    "   # Program input: \n",
    "      a='Welcome to '\n",
    "      b='Python foundation course'\n",
    "      print(a+b)\n",
    "    # Program output: Welcome to Python foundation course\n",
    "Q4. For the variable: word='PanaJi@12256' calculate the following: a. Total number of alphabets in lower case # Prgram input: word='PanaJi@12256' lcase = sum(d.islower() for d in word) print(lcase) #Program Output:4\n",
    "\n",
    "b. Total number of alphabets in uppercase\n",
    "    #Program input:\n",
    "        word='PanaJi@12256'\n",
    "        ucase=sum(e.isupper() for e in word)\n",
    "        print(ucase)\n",
    "    #Program Output:2\n",
    "c. Total number of numberical in string \n",
    "    #Program input:\n",
    "        word='PanaJi@12256'\n",
    "        digitscase = sum(c.isdigit() for c in word)\n",
    "        print(digitscase)\n",
    "    #Program Output:5\n",
    "# Q5. Write a code to store a numerical value inside a variable then convert it into string.\n",
    "#     # Program input:\n",
    "       a =98\n",
    "        b=str(a)\n",
    "        print(type(b))"
   ]
  },
  {
   "cell_type": "code",
   "execution_count": null,
   "id": "0b04428e-fd55-40f7-8369-193d41f34fe8",
   "metadata": {},
   "outputs": [],
   "source": []
  }
 ],
 "metadata": {
  "kernelspec": {
   "display_name": "Python 3 (ipykernel)",
   "language": "python",
   "name": "python3"
  },
  "language_info": {
   "codemirror_mode": {
    "name": "ipython",
    "version": 3
   },
   "file_extension": ".py",
   "mimetype": "text/x-python",
   "name": "python",
   "nbconvert_exporter": "python",
   "pygments_lexer": "ipython3",
   "version": "3.10.8"
  }
 },
 "nbformat": 4,
 "nbformat_minor": 5
}
